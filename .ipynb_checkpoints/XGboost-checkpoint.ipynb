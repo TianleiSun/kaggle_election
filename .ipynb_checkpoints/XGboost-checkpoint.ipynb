{
 "cells": [
  {
   "cell_type": "code",
   "execution_count": 1,
   "metadata": {
    "collapsed": false
   },
   "outputs": [
    {
     "name": "stdout",
     "output_type": "stream",
     "text": [
      "0.780831055981\n"
     ]
    }
   ],
   "source": [
    "import csv\n",
    "import numpy as np\n",
    "#from sklearn.tree import DecisionTreeClassifier\n",
    "from sklearn.model_selection import cross_val_score\n",
    "#from sklearn.neural_network import MLPClassifier\n",
    "#from sklearn.neighbors import KNeighborsClassifier\n",
    "#from sklearn.gaussian_process import GaussianProcessClassifier\n",
    "import xgboost\n",
    "'''\n",
    "import os\n",
    "import sys\n",
    "import subprocess\n",
    "\n",
    "if 'darwin' in sys.platform:\n",
    "    print('Running \\'caffeinate\\' on MacOSX to prevent the system from sleeping')\n",
    "    subprocess.Popen('caffeinate')\n",
    "'''\n",
    "\n",
    "with open('train_2008.csv', 'r') as dest_f:\n",
    " data_iter = csv.reader(dest_f, delimiter = ',', quotechar = '\"') \n",
    " data1 = [data for data in data_iter]\n",
    "\n",
    "data_train = np.asarray(data1[1:], dtype = 'i8')\n",
    "\n",
    "with open('test_2008.csv', 'r') as dest_f:\n",
    " data_iter = csv.reader(dest_f, delimiter = ',', quotechar = '\"') \n",
    " data2 = [data for data in data_iter]\n",
    "\n",
    "data_test = np.asarray(data2[1:], dtype = 'i8')\n",
    "\n",
    "X_train = data_train[:, 1:len(data_train[0])-2]\n",
    "y_train = data_train[:, len(data_train[0])-1]\n",
    "X_test = data_test[:, 1:len(data_test[0])-1]\n",
    "'''\n",
    "#alpha = [0.000001, 0.0001]\n",
    "nn = [100, 130,160,180,200, 210, 220]\n",
    "#leaf = [200, 220, 240, 260, 280, 300]\n",
    "validation_error_list = []\n",
    "#for d in depth:\n",
    "for n in nn:\n",
    " rfc = GaussianProcessClassifier(1.0 * RBF(1.0), warm_start=True)\n",
    " rfc.fit(X_train, y_train)\n",
    " score = cross_val_score(rfc, X_train, y_train, cv=5)\n",
    " validation_error_list.append((np.mean(score), n))\n",
    " print (np.mean(score), n)\n",
    "'''\n",
    "\n",
    "# fit model no training data\n",
    "#NE = [100, 150, 200, 250, 300, 400, 500, 800, 1000]\n",
    "#for ne in NE:\n",
    "model = xgboost.XGBClassifier(max_depth=10, learning_rate=1, n_estimators=200)\n",
    "model.fit(X_train, y_train)\n",
    "score = cross_val_score(model, X_train, y_train, cv=5)\n",
    "print np.mean(score)"
   ]
  },
  {
   "cell_type": "code",
   "execution_count": 3,
   "metadata": {
    "collapsed": true
   },
   "outputs": [],
   "source": [
    "y_test = model.predict(X_test)\n",
    "with open('2008.csv', 'w') as f:\n",
    "    writer = csv.writer(f)\n",
    "    writer.writerow(['id', 'PES1'])\n",
    "    for i in range(len(y_test)):\n",
    "        writer.writerow([i, y_test[i]])\n"
   ]
  },
  {
   "cell_type": "code",
   "execution_count": null,
   "metadata": {
    "collapsed": true
   },
   "outputs": [],
   "source": []
  }
 ],
 "metadata": {
  "kernelspec": {
   "display_name": "Python 2",
   "language": "python",
   "name": "python2"
  },
  "language_info": {
   "codemirror_mode": {
    "name": "ipython",
    "version": 2
   },
   "file_extension": ".py",
   "mimetype": "text/x-python",
   "name": "python",
   "nbconvert_exporter": "python",
   "pygments_lexer": "ipython2",
   "version": "2.7.13"
  }
 },
 "nbformat": 4,
 "nbformat_minor": 2
}
