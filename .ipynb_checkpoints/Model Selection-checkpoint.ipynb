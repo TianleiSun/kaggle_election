{
 "cells": [
  {
   "cell_type": "code",
   "execution_count": 6,
   "metadata": {
    "collapsed": true
   },
   "outputs": [],
   "source": [
    "import csv\n",
    "import numpy as np\n",
    "\n",
    "with open('train_2008.csv', 'r') as dest_f:\n",
    "\tdata_iter = csv.reader(dest_f, delimiter = ',', quotechar = '\"') \n",
    "\tdata1 = [data for data in data_iter]\n",
    "\n",
    "data_train = np.asarray(data1[1:], dtype = 'i8')\n",
    "\n",
    "with open('test_2008.csv', 'r') as dest_f:\n",
    "\tdata_iter = csv.reader(dest_f, delimiter = ',', quotechar = '\"') \n",
    "\tdata2 = [data for data in data_iter]\n",
    "\n",
    "data_test = np.asarray(data2[1:], dtype = 'i8')\n",
    "\n",
    "X_train = data_train[:, 1:len(data_train[0])-2]\n",
    "y_train = data_train[:, len(data_train[0])-1]\n"
   ]
  },
  {
   "cell_type": "code",
   "execution_count": 7,
   "metadata": {
    "collapsed": false
   },
   "outputs": [
    {
     "name": "stdout",
     "output_type": "stream",
     "text": [
      "('Nearest Neighbors', 0.68792431801487253)\n",
      "('Gaussian Process', 0.76369708396252023)\n",
      "('Decision Tree', 0.74461471811441604)\n",
      "('Random Forest', 0.63106209829200144)\n",
      "('Neural Net', 0.77657846351151338)\n"
     ]
    }
   ],
   "source": [
    "import matplotlib.pyplot as plt\n",
    "from sklearn.model_selection import cross_val_score\n",
    "from matplotlib.colors import ListedColormap\n",
    "from sklearn.model_selection import train_test_split\n",
    "from sklearn.neural_network import MLPClassifier\n",
    "from sklearn.neighbors import KNeighborsClassifier\n",
    "from sklearn.tree import DecisionTreeClassifier\n",
    "from sklearn.ensemble import RandomForestClassifier, AdaBoostClassifier\n",
    "\n",
    "\n",
    "names = [\"Nearest Neighbors\", \"Gaussian Process\",\n",
    "         \"Decision Tree\", \"Random Forest\", \"Neural Net\", \"AdaBoost\"]\n",
    "\n",
    "classifiers = [\n",
    "    KNeighborsClassifier(3),\n",
    "    DecisionTreeClassifier(max_depth=5),\n",
    "    RandomForestClassifier(max_depth=5, n_estimators=100, max_features=1),\n",
    "    MLPClassifier(alpha=1),\n",
    "    AdaBoostClassifier()]\n",
    "\n",
    "datasets = [(X_train, y_train)]\n",
    "\n",
    "\n",
    "# iterate over classifiers\n",
    "for name, clf in zip(names, classifiers):\n",
    "    clf.fit(X_train, y_train) \n",
    "    score = cross_val_score(clf, X_train, y_train, cv=5)\n",
    "    print(name, np.mean(score))"
   ]
  },
  {
   "cell_type": "code",
   "execution_count": null,
   "metadata": {
    "collapsed": true
   },
   "outputs": [],
   "source": []
  }
 ],
 "metadata": {
  "kernelspec": {
   "display_name": "Python 2",
   "language": "python",
   "name": "python2"
  },
  "language_info": {
   "codemirror_mode": {
    "name": "ipython",
    "version": 2
   },
   "file_extension": ".py",
   "mimetype": "text/x-python",
   "name": "python",
   "nbconvert_exporter": "python",
   "pygments_lexer": "ipython2",
   "version": "2.7.13"
  }
 },
 "nbformat": 4,
 "nbformat_minor": 2
}
