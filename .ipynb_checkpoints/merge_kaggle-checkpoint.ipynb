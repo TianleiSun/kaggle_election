{
 "cells": [
  {
   "cell_type": "code",
   "execution_count": null,
   "metadata": {
    "collapsed": false
   },
   "outputs": [],
   "source": [
    "import csv\n",
    "import numpy as np\n",
    "from sklearn.ensemble import RandomForestClassifier, AdaBoostClassifier\n",
    "from sklearn.model_selection import cross_val_score\n",
    "from sklearn.model_selection import KFold\n",
    "\n",
    "import os\n",
    "import sys\n",
    "import subprocess\n",
    "\n",
    "if 'darwin' in sys.platform:\n",
    "    print('Running \\'caffeinate\\' on MacOSX to prevent the system from sleeping')\n",
    "    subprocess.Popen('caffeinate')\n",
    "\n",
    "with open('train_2008.csv', 'r') as dest_f:\n",
    "    data_iter = csv.reader(dest_f, delimiter = ',', quotechar = '\"') \n",
    "    data1 = [data for data in data_iter]\n",
    "\n",
    "data_train = np.asarray(data1[1:], dtype = 'i8')\n",
    "\n",
    "with open('test_2008.csv', 'r') as dest_f:\n",
    "    data_iter = csv.reader(dest_f, delimiter = ',', quotechar = '\"') \n",
    "    data2 = [data for data in data_iter]\n",
    "\n",
    "data_test = np.asarray(data2[1:], dtype = 'i8')\n",
    "\n",
    "X_train = data_train[:, 1:len(data_train[0])-2]\n",
    "y_train = data_train[:, len(data_train[0])-1]\n",
    "X_test = data_test[:, 1:len(data_test[0])-1]\n",
    "\n",
    "rfc = RandomForestClassifier(n_estimators=220, max_depth=130)\n",
    "abc = AdaBoostClassifier(n_estimators = 200)\n",
    "\n",
    "kf = KFold(n_splits=5)\n",
    "kf.get_n_splits(X_train)\n",
    "# print kf    \n",
    "# KFold(n_splits=5, random_state=None, shuffle=False)\n",
    "A =[0.6, 0.8]\n",
    "for a in A:\n",
    "    for train_index, test_index in kf.split(X_train):\n",
    "        # print(\"TRAIN:\", train_index, \"TEST:\", test_index)\n",
    "        accuracy = []\n",
    "        X_train_val, X_test_val = X_train[train_index], X_train[test_index]\n",
    "        y_train_val, y_test_val = y_train[train_index], y_train[test_index]\n",
    "        rfc.fit(X_train_val, y_train_val)\n",
    "        abc.fit(X_train_val, y_train_val)\n",
    "        Y_rfc = rfc.predict(X_test_val)\n",
    "        Y_abc = abc.predict(X_test_val)\n",
    "        Y = Y_rfc * a + Y_abc * (1 - a)\n",
    "        for y in Y:\n",
    "            if y < np.random(1,2):\n",
    "                y = 1\n",
    "            else:\n",
    "                y = 2\n",
    "        error = np.sum(np.abs(Y - y_test_val))*1.0/len(Y_rfc)\n",
    "        accuracy.append(1 - error)\n",
    "    print (np.mean(accuracy), a, k)"
   ]
  },
  {
   "cell_type": "code",
   "execution_count": null,
   "metadata": {
    "collapsed": true
   },
   "outputs": [],
   "source": []
  }
 ],
 "metadata": {
  "kernelspec": {
   "display_name": "Python 2",
   "language": "python",
   "name": "python2"
  },
  "language_info": {
   "codemirror_mode": {
    "name": "ipython",
    "version": 2
   },
   "file_extension": ".py",
   "mimetype": "text/x-python",
   "name": "python",
   "nbconvert_exporter": "python",
   "pygments_lexer": "ipython2",
   "version": "2.7.13"
  }
 },
 "nbformat": 4,
 "nbformat_minor": 2
}
